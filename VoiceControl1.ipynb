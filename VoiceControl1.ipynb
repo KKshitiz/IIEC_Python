{
 "cells": [
  {
   "cell_type": "code",
   "execution_count": 65,
   "metadata": {},
   "outputs": [],
   "source": [
    "import speech_recognition as sr\n",
    "import subprocess as s\n",
    "import cgi\n",
    "import time\n",
    "import webbrowser\n",
    "import os"
   ]
  },
  {
   "cell_type": "code",
   "execution_count": 66,
   "metadata": {},
   "outputs": [],
   "source": [
    "r=sr.Recognizer();"
   ]
  },
  {
   "cell_type": "code",
   "execution_count": 67,
   "metadata": {},
   "outputs": [
    {
     "name": "stdout",
     "output_type": "stream",
     "text": [
      "Hello User! Please tell what you want me to do. \n"
     ]
    }
   ],
   "source": [
    "print(\"Hello User! Please tell what you want me to do. \");"
   ]
  },
  {
   "cell_type": "code",
   "execution_count": 68,
   "metadata": {},
   "outputs": [
    {
     "name": "stdout",
     "output_type": "stream",
     "text": [
      "Speak!\n",
      "Stop!\n"
     ]
    }
   ],
   "source": [
    "with sr.Microphone() as source:\n",
    "    print(\"Speak!\")\n",
    "    audio=r.listen(source)\n",
    "    print(\"Stop!\")"
   ]
  },
  {
   "cell_type": "code",
   "execution_count": 69,
   "metadata": {},
   "outputs": [
    {
     "data": {
      "text/plain": [
       "speech_recognition.AudioData"
      ]
     },
     "execution_count": 69,
     "metadata": {},
     "output_type": "execute_result"
    }
   ],
   "source": [
    "type(audio)"
   ]
  },
  {
   "cell_type": "code",
   "execution_count": 70,
   "metadata": {},
   "outputs": [],
   "source": [
    "f=r.recognize_google(audio)"
   ]
  },
  {
   "cell_type": "code",
   "execution_count": 71,
   "metadata": {},
   "outputs": [
    {
     "name": "stdout",
     "output_type": "stream",
     "text": [
      "You said: please tell time\n"
     ]
    }
   ],
   "source": [
    "print(\"You said: \"+f)"
   ]
  },
  {
   "cell_type": "code",
   "execution_count": 72,
   "metadata": {},
   "outputs": [],
   "source": [
    " x=f.lower()"
   ]
  },
  {
   "cell_type": "code",
   "execution_count": 73,
   "metadata": {},
   "outputs": [
    {
     "name": "stdout",
     "output_type": "stream",
     "text": [
      "15:58:36 \n"
     ]
    }
   ],
   "source": [
    "if ((\"run\" in x) or (\"execute\" in x) or (\"open\" in x)) and ((\"notepad\" in x) or (\"text\" in x) or (\"editor\" in  x)):\n",
    "    \tos.system(\"notepad\")\n",
    "elif(((\"run\" in x) or (\"execute\" in x) or (\"open\" in x)) and ((\"google\" in x) or (\"chrome\" in x) or (\"browser\" in x) or (\"web\" in x))):\n",
    "    \tos.system(\"chrome\")\n",
    "elif(((\"run\" in x) or (\"execute\" in x) or (\"open\" in x)) and((\"windows\" in x) or (\"media\" in x) or (\"player\" in x))):\n",
    "    \tos.system(\"wmplayer\")\n",
    "elif(((\"run\" in x) or (\"execute\" in x) or (\"open\" in x)) and((\"visual\" in x) and (\"studio\" in x ) and (\"code\" in x))):\n",
    "                os.system(\"Code\")\n",
    "elif(\"date\" in x):\n",
    "                localtime = time.asctime( time.localtime(time.time()))\n",
    "                print(localtime[:11]+localtime[len(localtime)-4:])\n",
    "elif(\"time\" in x):\n",
    "                localtime = time.asctime( time.localtime(time.time()))\n",
    "                print(localtime[11:len(localtime)-4])\n",
    "elif(\"calculator\" in x):\n",
    "                os.system(\"C:\\\\Windows\\\\System32\\\\calc.exe\")\n",
    "elif(((\"open\" in x) or (\"go to\")) and (\"linkedin\" in x)):\n",
    "                webbrowser.open('http://linkedin.com')\n",
    "elif(((\"open\" in x) or (\"go to\")) and (\"github\" in x)):\n",
    "                webbrowser.open('https://github.com/')\n",
    "\n",
    "else:\n",
    "                print(\"Please specify again or give a valid commad\")"
   ]
  },
  {
   "cell_type": "code",
   "execution_count": null,
   "metadata": {},
   "outputs": [],
   "source": []
  }
 ],
 "metadata": {
  "kernelspec": {
   "display_name": "Python 3",
   "language": "python",
   "name": "python3"
  },
  "language_info": {
   "codemirror_mode": {
    "name": "ipython",
    "version": 3
   },
   "file_extension": ".py",
   "mimetype": "text/x-python",
   "name": "python",
   "nbconvert_exporter": "python",
   "pygments_lexer": "ipython3",
   "version": "3.7.1"
  }
 },
 "nbformat": 4,
 "nbformat_minor": 4
}
